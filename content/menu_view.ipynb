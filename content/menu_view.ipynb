{
 "cells": [
  {
   "cell_type": "markdown",
   "id": "9431bc18-3651-4c3a-98f7-5283bef1d7bf",
   "metadata": {
    "jp-MarkdownHeadingCollapsed": true
   },
   "source": [
    "### install first time"
   ]
  },
  {
   "cell_type": "code",
   "execution_count": 10,
   "id": "6a5a6583-5746-4bda-969f-7d40724f9191",
   "metadata": {
    "deletable": true,
    "editable": true,
    "frozen": false,
    "scrolled": true
   },
   "outputs": [
    {
     "name": "stdout",
     "output_type": "stream",
     "text": [
      "Requirement already satisfied: pandas in /Users/adam/Library/jupyterlab-desktop/jlab_server/lib/python3.12/site-packages (2.2.2)\n",
      "Requirement already satisfied: pint in /Users/adam/Library/jupyterlab-desktop/jlab_server/lib/python3.12/site-packages (0.24.1)\n",
      "Requirement already satisfied: ipywidgets in /Users/adam/Library/jupyterlab-desktop/jlab_server/lib/python3.12/site-packages (8.1.2)\n",
      "Collecting openpyxl\n",
      "  Downloading openpyxl-3.1.5-py2.py3-none-any.whl.metadata (2.5 kB)\n",
      "Requirement already satisfied: numpy>=1.26.0 in /Users/adam/Library/jupyterlab-desktop/jlab_server/lib/python3.12/site-packages (from pandas) (1.26.4)\n",
      "Requirement already satisfied: python-dateutil>=2.8.2 in /Users/adam/Library/jupyterlab-desktop/jlab_server/lib/python3.12/site-packages (from pandas) (2.9.0)\n",
      "Requirement already satisfied: pytz>=2020.1 in /Users/adam/Library/jupyterlab-desktop/jlab_server/lib/python3.12/site-packages (from pandas) (2024.1)\n",
      "Requirement already satisfied: tzdata>=2022.7 in /Users/adam/Library/jupyterlab-desktop/jlab_server/lib/python3.12/site-packages (from pandas) (2024.1)\n",
      "Requirement already satisfied: appdirs>=1.4.4 in /Users/adam/Library/jupyterlab-desktop/jlab_server/lib/python3.12/site-packages (from pint) (1.4.4)\n",
      "Requirement already satisfied: typing-extensions in /Users/adam/Library/jupyterlab-desktop/jlab_server/lib/python3.12/site-packages (from pint) (4.11.0)\n",
      "Requirement already satisfied: flexcache>=0.3 in /Users/adam/Library/jupyterlab-desktop/jlab_server/lib/python3.12/site-packages (from pint) (0.3)\n",
      "Requirement already satisfied: flexparser>=0.3 in /Users/adam/Library/jupyterlab-desktop/jlab_server/lib/python3.12/site-packages (from pint) (0.3.1)\n",
      "Requirement already satisfied: comm>=0.1.3 in /Users/adam/Library/jupyterlab-desktop/jlab_server/lib/python3.12/site-packages (from ipywidgets) (0.2.2)\n",
      "Requirement already satisfied: ipython>=6.1.0 in /Users/adam/Library/jupyterlab-desktop/jlab_server/lib/python3.12/site-packages (from ipywidgets) (8.24.0)\n",
      "Requirement already satisfied: traitlets>=4.3.1 in /Users/adam/Library/jupyterlab-desktop/jlab_server/lib/python3.12/site-packages (from ipywidgets) (5.14.3)\n",
      "Requirement already satisfied: widgetsnbextension~=4.0.10 in /Users/adam/Library/jupyterlab-desktop/jlab_server/lib/python3.12/site-packages (from ipywidgets) (4.0.10)\n",
      "Requirement already satisfied: jupyterlab-widgets~=3.0.10 in /Users/adam/Library/jupyterlab-desktop/jlab_server/lib/python3.12/site-packages (from ipywidgets) (3.0.10)\n",
      "Collecting et-xmlfile (from openpyxl)\n",
      "  Downloading et_xmlfile-1.1.0-py3-none-any.whl.metadata (1.8 kB)\n",
      "Requirement already satisfied: decorator in /Users/adam/Library/jupyterlab-desktop/jlab_server/lib/python3.12/site-packages (from ipython>=6.1.0->ipywidgets) (5.1.1)\n",
      "Requirement already satisfied: jedi>=0.16 in /Users/adam/Library/jupyterlab-desktop/jlab_server/lib/python3.12/site-packages (from ipython>=6.1.0->ipywidgets) (0.19.1)\n",
      "Requirement already satisfied: matplotlib-inline in /Users/adam/Library/jupyterlab-desktop/jlab_server/lib/python3.12/site-packages (from ipython>=6.1.0->ipywidgets) (0.1.7)\n",
      "Requirement already satisfied: prompt-toolkit<3.1.0,>=3.0.41 in /Users/adam/Library/jupyterlab-desktop/jlab_server/lib/python3.12/site-packages (from ipython>=6.1.0->ipywidgets) (3.0.42)\n",
      "Requirement already satisfied: pygments>=2.4.0 in /Users/adam/Library/jupyterlab-desktop/jlab_server/lib/python3.12/site-packages (from ipython>=6.1.0->ipywidgets) (2.18.0)\n",
      "Requirement already satisfied: stack-data in /Users/adam/Library/jupyterlab-desktop/jlab_server/lib/python3.12/site-packages (from ipython>=6.1.0->ipywidgets) (0.6.2)\n",
      "Requirement already satisfied: pexpect>4.3 in /Users/adam/Library/jupyterlab-desktop/jlab_server/lib/python3.12/site-packages (from ipython>=6.1.0->ipywidgets) (4.9.0)\n",
      "Requirement already satisfied: six>=1.5 in /Users/adam/Library/jupyterlab-desktop/jlab_server/lib/python3.12/site-packages (from python-dateutil>=2.8.2->pandas) (1.16.0)\n",
      "Requirement already satisfied: parso<0.9.0,>=0.8.3 in /Users/adam/Library/jupyterlab-desktop/jlab_server/lib/python3.12/site-packages (from jedi>=0.16->ipython>=6.1.0->ipywidgets) (0.8.4)\n",
      "Requirement already satisfied: ptyprocess>=0.5 in /Users/adam/Library/jupyterlab-desktop/jlab_server/lib/python3.12/site-packages (from pexpect>4.3->ipython>=6.1.0->ipywidgets) (0.7.0)\n",
      "Requirement already satisfied: wcwidth in /Users/adam/Library/jupyterlab-desktop/jlab_server/lib/python3.12/site-packages (from prompt-toolkit<3.1.0,>=3.0.41->ipython>=6.1.0->ipywidgets) (0.2.13)\n",
      "Requirement already satisfied: executing>=1.2.0 in /Users/adam/Library/jupyterlab-desktop/jlab_server/lib/python3.12/site-packages (from stack-data->ipython>=6.1.0->ipywidgets) (2.0.1)\n",
      "Requirement already satisfied: asttokens>=2.1.0 in /Users/adam/Library/jupyterlab-desktop/jlab_server/lib/python3.12/site-packages (from stack-data->ipython>=6.1.0->ipywidgets) (2.4.1)\n",
      "Requirement already satisfied: pure-eval in /Users/adam/Library/jupyterlab-desktop/jlab_server/lib/python3.12/site-packages (from stack-data->ipython>=6.1.0->ipywidgets) (0.2.2)\n",
      "Downloading openpyxl-3.1.5-py2.py3-none-any.whl (250 kB)\n",
      "\u001b[2K   \u001b[90m━━━━━━━━━━━━━━━━━━━━━━━━━━━━━━━━━━━━━━━━\u001b[0m \u001b[32m250.9/250.9 kB\u001b[0m \u001b[31m1.8 MB/s\u001b[0m eta \u001b[36m0:00:00\u001b[0ma \u001b[36m0:00:01\u001b[0m\n",
      "\u001b[?25hUsing cached et_xmlfile-1.1.0-py3-none-any.whl (4.7 kB)\n",
      "Installing collected packages: et-xmlfile, openpyxl\n",
      "Successfully installed et-xmlfile-1.1.0 openpyxl-3.1.5\n",
      "Note: you may need to restart the kernel to use updated packages.\n"
     ]
    }
   ],
   "source": [
    "%pip install pandas pint ipywidgets openpyxl;"
   ]
  },
  {
   "cell_type": "markdown",
   "id": "512e3531-0a16-4ddc-82d4-20aa89df4089",
   "metadata": {},
   "source": [
    "### menu view"
   ]
  },
  {
   "cell_type": "code",
   "execution_count": 3,
   "id": "89568e21-7ef6-4f64-bfc0-4d2e81802d3d",
   "metadata": {},
   "outputs": [
    {
     "data": {
      "application/vnd.jupyter.widget-view+json": {
       "model_id": "7448f0705be54f698449b76db47c67ab",
       "version_major": 2,
       "version_minor": 0
      },
      "text/plain": [
       "VBox(children=(VBox(children=(HBox(children=(Dropdown(description='Files:', options=('menu_database.xlsx', 'am…"
      ]
     },
     "metadata": {},
     "output_type": "display_data"
    }
   ],
   "source": [
    "%run 'menu_view.py'"
   ]
  },
  {
   "cell_type": "markdown",
   "id": "56e41d15-cb07-4242-a4b6-bda02450ba0a",
   "metadata": {},
   "source": [
    "### menu cost"
   ]
  },
  {
   "cell_type": "code",
   "execution_count": 2,
   "id": "dab551f0-7686-41c9-9719-1f97116f01ae",
   "metadata": {},
   "outputs": [
    {
     "data": {
      "application/vnd.jupyter.widget-view+json": {
       "model_id": "13a3a4eb396748a88a332d5958bb257b",
       "version_major": 2,
       "version_minor": 0
      },
      "text/plain": [
       "VBox(children=(HBox(children=(Label(value='Database filename:'), Text(value='amc_menu_database.xlsx'), Button(…"
      ]
     },
     "metadata": {},
     "output_type": "display_data"
    }
   ],
   "source": [
    "%run 'amc_menucost_code.py'"
   ]
  }
 ],
 "metadata": {
  "kernelspec": {
   "display_name": "python 311 for jupyter",
   "language": "python",
   "name": "juypter311"
  },
  "language_info": {
   "codemirror_mode": {
    "name": "ipython",
    "version": 3
   },
   "file_extension": ".py",
   "mimetype": "text/x-python",
   "name": "python",
   "nbconvert_exporter": "python",
   "pygments_lexer": "ipython3",
   "version": "3.11.2"
  }
 },
 "nbformat": 4,
 "nbformat_minor": 5
}
