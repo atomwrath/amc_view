{
 "cells": [
  {
   "cell_type": "markdown",
   "id": "ffb8f95a-798a-4a4e-ad11-2cccc4656df3",
   "metadata": {
    "deletable": true,
    "editable": true,
    "frozen": false
   },
   "source": [
    "### AMC Ingredients"
   ]
  },
  {
   "cell_type": "code",
   "execution_count": 1,
   "id": "55c4b910-a792-4b8f-97b6-9be2c450b594",
   "metadata": {
    "deletable": true,
    "editable": true,
    "frozen": false
   },
   "outputs": [
    {
     "data": {
      "application/vnd.jupyter.widget-view+json": {
       "model_id": "12c4c3653cdc4383813209e79f9238ee",
       "version_major": 2,
       "version_minor": 0
      },
      "text/plain": [
       "VBox(children=(HBox(children=(Label(value='Database filename:'), Text(value='amc_menu_database.xlsx'), Button(…"
      ]
     },
     "metadata": {},
     "output_type": "display_data"
    }
   ],
   "source": [
    "%run 'amc_menu_view.py'"
   ]
  }
 ],
 "metadata": {
  "kernelspec": {
   "display_name": "python 311 for jupyter",
   "language": "python",
   "name": "juypter311"
  },
  "language_info": {
   "codemirror_mode": {
    "name": "ipython",
    "version": 3
   },
   "file_extension": ".py",
   "mimetype": "text/x-python",
   "name": "python",
   "nbconvert_exporter": "python",
   "pygments_lexer": "ipython3",
   "version": "3.11.2"
  }
 },
 "nbformat": 4,
 "nbformat_minor": 5
}
